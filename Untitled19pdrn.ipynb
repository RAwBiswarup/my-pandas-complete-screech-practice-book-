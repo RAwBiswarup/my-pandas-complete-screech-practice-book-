{
 "cells": [
  {
   "cell_type": "code",
   "execution_count": null,
   "id": "cd27c196-30a4-4b6f-8d43-bf1ff21af4c1",
   "metadata": {},
   "outputs": [],
   "source": []
  },
  {
   "cell_type": "code",
   "execution_count": null,
   "id": "cf10f20e-3060-4b31-b3c5-b51d6417f4a4",
   "metadata": {},
   "outputs": [],
   "source": [
    "import pandas as pd\n",
    "import numpy as np"
   ]
  },
  {
   "cell_type": "code",
   "execution_count": null,
   "id": "3ff08fda-be82-43f2-9821-8a4f495dc1a6",
   "metadata": {},
   "outputs": [],
   "source": [
    "sub=pd.read_csv(\"simple employee data_csv.csv\")"
   ]
  },
  {
   "cell_type": "code",
   "execution_count": null,
   "id": "7d8f1000-3da2-4adf-89c1-ca184fb0fc22",
   "metadata": {},
   "outputs": [],
   "source": [
    "sub"
   ]
  },
  {
   "cell_type": "code",
   "execution_count": null,
   "id": "629eda11-976e-4026-945c-3667b4a0e40f",
   "metadata": {},
   "outputs": [],
   "source": [
    "sub.info()"
   ]
  },
  {
   "cell_type": "code",
   "execution_count": null,
   "id": "8d398af9-380a-42a4-afcc-4466e4c7d769",
   "metadata": {},
   "outputs": [],
   "source": [
    "sub.describe()"
   ]
  },
  {
   "cell_type": "code",
   "execution_count": null,
   "id": "f892b190-a832-4d44-9fd7-ebd8439a8e5b",
   "metadata": {},
   "outputs": [],
   "source": [
    "sub.isnull()"
   ]
  },
  {
   "cell_type": "code",
   "execution_count": null,
   "id": "1f53222b-0ebc-4bd8-8d7a-da7d077e3b79",
   "metadata": {},
   "outputs": [],
   "source": [
    "sub.isnull().sum()"
   ]
  },
  {
   "cell_type": "code",
   "execution_count": null,
   "id": "13833aa9-8328-4b69-8ea5-efeb6051cc55",
   "metadata": {},
   "outputs": [],
   "source": [
    "sub[\"empid\"].duplicated()"
   ]
  },
  {
   "cell_type": "code",
   "execution_count": null,
   "id": "7f32dd7d-106f-4d77-8d69-88b92d36a5fc",
   "metadata": {},
   "outputs": [],
   "source": [
    "sub.drop_duplicates(\"empid\",inplace=True)"
   ]
  },
  {
   "cell_type": "code",
   "execution_count": null,
   "id": "d5f9c690-4229-4aac-b39f-a2942d3d30c4",
   "metadata": {},
   "outputs": [],
   "source": [
    "sub"
   ]
  },
  {
   "cell_type": "code",
   "execution_count": null,
   "id": "594ccdf1-abcd-43e3-9e9d-c724c7559d86",
   "metadata": {},
   "outputs": [],
   "source": [
    "sub.dropna()"
   ]
  },
  {
   "cell_type": "code",
   "execution_count": null,
   "id": "07f00794-2a22-4936-8362-09a93504d22d",
   "metadata": {},
   "outputs": [],
   "source": [
    "sub"
   ]
  },
  {
   "cell_type": "code",
   "execution_count": null,
   "id": "67270f81-dfdd-47e5-b446-989641266453",
   "metadata": {},
   "outputs": [],
   "source": [
    "sub[\"salary\"].mean()"
   ]
  },
  {
   "cell_type": "code",
   "execution_count": null,
   "id": "3d030239-9b2c-4398-a650-6fe51e88061b",
   "metadata": {},
   "outputs": [],
   "source": [
    "sub[\"salary\"].replace(np.nan,28375.0,inplace=True)"
   ]
  },
  {
   "cell_type": "code",
   "execution_count": null,
   "id": "d524328a-7c3c-4df6-bd6f-89bd39839de9",
   "metadata": {},
   "outputs": [],
   "source": [
    "sub"
   ]
  },
  {
   "cell_type": "code",
   "execution_count": null,
   "id": "b7236e25-d431-4bff-b8b4-ff655bdf8268",
   "metadata": {},
   "outputs": [],
   "source": [
    "sub[\"name\"].fillna(method=\"bfill\",inplace=True)"
   ]
  },
  {
   "cell_type": "code",
   "execution_count": null,
   "id": "35e067e3-c4fc-4155-9d66-eee8669ce3a5",
   "metadata": {},
   "outputs": [],
   "source": [
    "sub"
   ]
  },
  {
   "cell_type": "code",
   "execution_count": null,
   "id": "dd8c02ce-aa83-4724-9bbd-f96437bc173b",
   "metadata": {},
   "outputs": [],
   "source": [
    "sub[\"last name\"].fillna(method=\"bfill\",inplace=True)"
   ]
  },
  {
   "cell_type": "code",
   "execution_count": null,
   "id": "2543cfc7-33c6-4f00-a7de-d62340eb24e1",
   "metadata": {},
   "outputs": [],
   "source": [
    "sub"
   ]
  },
  {
   "cell_type": "code",
   "execution_count": null,
   "id": "e73a2746-e204-4ac6-b6fd-02c18c07610e",
   "metadata": {},
   "outputs": [],
   "source": [
    "sub[\"gender\"].fillna(method=\"bfill\",inplace=True)"
   ]
  },
  {
   "cell_type": "code",
   "execution_count": null,
   "id": "016a2a30-a6eb-4b73-b0f8-7fb400b6f519",
   "metadata": {},
   "outputs": [],
   "source": [
    "sub"
   ]
  },
  {
   "cell_type": "code",
   "execution_count": null,
   "id": "8568d7fe-0cce-464c-8cd4-d2ed4d2c9d9f",
   "metadata": {},
   "outputs": [],
   "source": [
    "sub[\"joining mont\"].fillna(method=\"ffill\",inplace=True)"
   ]
  },
  {
   "cell_type": "code",
   "execution_count": null,
   "id": "3efc2275-5359-4913-bf77-0ab36d0d1782",
   "metadata": {},
   "outputs": [],
   "source": [
    "sub"
   ]
  },
  {
   "cell_type": "code",
   "execution_count": null,
   "id": "ec67a71f-e9a2-4d80-baa2-a6caac588128",
   "metadata": {},
   "outputs": [],
   "source": [
    "sub[\"bonus amount\"]=(sub[\"salary\"]/100)*sub[\"bonus\"]"
   ]
  },
  {
   "cell_type": "code",
   "execution_count": null,
   "id": "6248dc71-c8c0-45d2-ab18-b7424b488a3c",
   "metadata": {},
   "outputs": [],
   "source": [
    "sub"
   ]
  },
  {
   "cell_type": "code",
   "execution_count": null,
   "id": "20de0246-1e70-4b6c-b334-60fd59718c9c",
   "metadata": {},
   "outputs": [],
   "source": [
    "sub.loc[(sub[\"bonus\"]==0),\"bonus statuse\"]=\"do not recive bonus\""
   ]
  },
  {
   "cell_type": "code",
   "execution_count": null,
   "id": "27f4b060-98ce-42bc-ac0b-dcf613d333f3",
   "metadata": {},
   "outputs": [],
   "source": [
    "sub.loc[(sub[\"bonus\"]>0),\"bonus statuse\"]=\"recive bonus\""
   ]
  },
  {
   "cell_type": "code",
   "execution_count": null,
   "id": "54181ecb-3284-4c7f-8b6e-07c565f9553b",
   "metadata": {},
   "outputs": [],
   "source": [
    "sub"
   ]
  },
  {
   "cell_type": "code",
   "execution_count": null,
   "id": "4a2df081-0dfc-4b6f-a7d0-949d1eb24228",
   "metadata": {},
   "outputs": [],
   "source": [
    "sub[\"full name\"]=sub[\"name\"]+\" \"+sub[\"last name\"]"
   ]
  },
  {
   "cell_type": "code",
   "execution_count": null,
   "id": "37a56e3c-6794-4572-86dc-2678b3110ab8",
   "metadata": {},
   "outputs": [],
   "source": [
    "sub"
   ]
  },
  {
   "cell_type": "code",
   "execution_count": null,
   "id": "d9419920-71b4-47e3-9275-4aa747b68b9d",
   "metadata": {},
   "outputs": [],
   "source": [
    "def extract (values):\n",
    "    return values[:3]\n",
    "sub[\"joining mont in sort\"]=sub[\"joining mont\"].map(extract)"
   ]
  },
  {
   "cell_type": "code",
   "execution_count": null,
   "id": "b3e2bf29-631f-4732-87de-31914e609e40",
   "metadata": {},
   "outputs": [],
   "source": [
    "sub"
   ]
  },
  {
   "cell_type": "code",
   "execution_count": null,
   "id": "6853986b-c457-4826-a6d5-d87ffddeadf4",
   "metadata": {},
   "outputs": [],
   "source": [
    "sub.groupby([\"empid\",\"gender\"]).agg({\"salary\":\"sum\",\"bonus amount\":\"min\"})"
   ]
  },
  {
   "cell_type": "code",
   "execution_count": null,
   "id": "159689a8-f09c-4b2d-b45e-40e532da7293",
   "metadata": {},
   "outputs": [],
   "source": [
    "sub"
   ]
  },
  {
   "cell_type": "code",
   "execution_count": null,
   "id": "9910ce91-493d-491b-9e56-42acbbc38111",
   "metadata": {},
   "outputs": [],
   "source": [
    "# sub[\"salary\"][0]=500"
   ]
  },
  {
   "cell_type": "code",
   "execution_count": null,
   "id": "e382449c-6e7a-4ecc-ade7-8d30a48c115d",
   "metadata": {},
   "outputs": [],
   "source": [
    "sub.drop(\"salary\",axis=1)"
   ]
  },
  {
   "cell_type": "code",
   "execution_count": null,
   "id": "e455be79-1682-4d12-85ed-20cc512951e7",
   "metadata": {},
   "outputs": [],
   "source": [
    "sub"
   ]
  },
  {
   "cell_type": "code",
   "execution_count": null,
   "id": "6331d873-cabc-4c19-8d94-6869ccb5d3f0",
   "metadata": {},
   "outputs": [],
   "source": [
    "sub.drop(0)"
   ]
  },
  {
   "cell_type": "code",
   "execution_count": null,
   "id": "1332062d-dc8d-4d75-9d7f-e85472da3cd7",
   "metadata": {},
   "outputs": [],
   "source": [
    "sub.loc[[(0),(1)]]"
   ]
  },
  {
   "cell_type": "code",
   "execution_count": null,
   "id": "1da260c1-b4e5-4466-b6ac-e451e33e7e43",
   "metadata": {},
   "outputs": [],
   "source": [
    "sub1=sub[[\"empid\",\"name\",\"salary\"]]"
   ]
  },
  {
   "cell_type": "code",
   "execution_count": null,
   "id": "0dab2149-4fb3-46e5-9509-f86d62ed0b65",
   "metadata": {},
   "outputs": [],
   "source": [
    "sub2=sub[[\"empid\",\"bonus\",\"bonus amount\"]]"
   ]
  },
  {
   "cell_type": "code",
   "execution_count": null,
   "id": "5f29de66-a28e-418b-bf1c-c1a614199663",
   "metadata": {},
   "outputs": [],
   "source": [
    "sub1"
   ]
  },
  {
   "cell_type": "code",
   "execution_count": null,
   "id": "03214902-bcc1-418e-befc-07b7f828b80d",
   "metadata": {},
   "outputs": [],
   "source": [
    "sub2"
   ]
  },
  {
   "cell_type": "code",
   "execution_count": null,
   "id": "cb1478f6-19a9-4479-87b9-60aad4c0019e",
   "metadata": {},
   "outputs": [],
   "source": [
    "sub3=pd.merge(sub1,sub2,on=\"empid\")"
   ]
  },
  {
   "cell_type": "code",
   "execution_count": null,
   "id": "d4340ed2-4a1e-4d12-88a1-85c6261ae84f",
   "metadata": {},
   "outputs": [],
   "source": [
    "sub3"
   ]
  },
  {
   "cell_type": "code",
   "execution_count": null,
   "id": "64a1e731-52cf-4b3b-acb6-f84dc25be57d",
   "metadata": {},
   "outputs": [],
   "source": [
    "sub4=sub3.loc[[(0),(1),(2)]]"
   ]
  },
  {
   "cell_type": "code",
   "execution_count": null,
   "id": "ba6c003f-9055-449a-a630-cd075af6b8d3",
   "metadata": {},
   "outputs": [],
   "source": [
    "sub4"
   ]
  },
  {
   "cell_type": "code",
   "execution_count": null,
   "id": "c797596e-9f54-4973-a204-2af24b999825",
   "metadata": {},
   "outputs": [],
   "source": [
    "sub5=sub3.loc[[(3),(4),(5)]]"
   ]
  },
  {
   "cell_type": "code",
   "execution_count": null,
   "id": "0f719cd4-ace0-4642-94c4-3a7090b03786",
   "metadata": {},
   "outputs": [],
   "source": [
    "sub5"
   ]
  },
  {
   "cell_type": "code",
   "execution_count": null,
   "id": "c607e4d1-0836-42c2-a4f7-bea53e9ae9fe",
   "metadata": {},
   "outputs": [],
   "source": [
    "sub6=pd.concat([sub4,sub5])"
   ]
  },
  {
   "cell_type": "code",
   "execution_count": null,
   "id": "4ae8d4fb-8c28-4c7c-8b17-6ad3e5c895bc",
   "metadata": {},
   "outputs": [],
   "source": [
    "sub6"
   ]
  },
  {
   "cell_type": "code",
   "execution_count": null,
   "id": "c7887f89-863b-4ead-98c9-66c7b28fc56a",
   "metadata": {},
   "outputs": [],
   "source": [
    "dt={\"emid\":[\"e01\",\"e02\",\"e03\",\"e04\",\"e05\"],\"Name\":[\"ram\",\"sham\",\"laxman\",\"arjun\",\"sudama\"],\"age\":[21,20,23,25,20]}\n",
    "dt1={\"emid\":[\"e01\",\"e07\",\"e03\",\"e08\",\"e05\"],\"sal\":[50000,45000,40000,35000,100000]}"
   ]
  },
  {
   "cell_type": "code",
   "execution_count": null,
   "id": "1b8de575-90d8-4911-8d1d-c8052deeb26e",
   "metadata": {},
   "outputs": [],
   "source": [
    "dtf1=pd.DataFrame(dt)\n",
    "dtf2=pd.DataFrame(dt1)"
   ]
  },
  {
   "cell_type": "code",
   "execution_count": null,
   "id": "7f34f6a2-b8b1-42fb-bfc4-19620fd61e1e",
   "metadata": {},
   "outputs": [],
   "source": [
    "dtf3=pd.merge(dtf1,dtf2,on=\"emid\",how=\"right\")"
   ]
  },
  {
   "cell_type": "code",
   "execution_count": null,
   "id": "1aa894ec-16c6-48b8-ada2-12d1f71c44bb",
   "metadata": {},
   "outputs": [],
   "source": [
    "dtf4=pd.merge(dtf1,dtf2,on=\"emid\",how=\"left\")"
   ]
  },
  {
   "cell_type": "code",
   "execution_count": null,
   "id": "5fefe2c9-8524-44c0-b76f-521a04c9781a",
   "metadata": {},
   "outputs": [],
   "source": [
    "dtf3"
   ]
  },
  {
   "cell_type": "code",
   "execution_count": null,
   "id": "33efff3b-e4d5-4ad9-bc5c-0b515171c6b5",
   "metadata": {},
   "outputs": [],
   "source": [
    "dtf4"
   ]
  },
  {
   "cell_type": "code",
   "execution_count": null,
   "id": "49f2851b-55be-40b9-9036-baafe90bcf8c",
   "metadata": {},
   "outputs": [],
   "source": [
    "# to compare dataframe :\n",
    "item1={\"fruit\":[\"mango\",\"banana\",\"orange\",\"apple\",\"papaya\"],\"price\":[150,50,120,250,25],\"quantity\":[9,7,20,22,2]}\n",
    "item2={\"fruit\":[\"mango\",\"banana\",\"orange\",\"apple\",\"papaya\"],\"price\":[180,50,150,220,25],\"quantity\":[8,7,18,25,2]}"
   ]
  },
  {
   "cell_type": "code",
   "execution_count": null,
   "id": "baaea492-94e1-4a38-a5cf-f0d0b1900644",
   "metadata": {},
   "outputs": [],
   "source": [
    "item3=pd.DataFrame(item1)\n",
    "item4=pd.DataFrame(item2)"
   ]
  },
  {
   "cell_type": "code",
   "execution_count": null,
   "id": "185238c2-5256-48e1-8db7-a91fe2555509",
   "metadata": {},
   "outputs": [],
   "source": [
    "com=item3.compare(item4)"
   ]
  },
  {
   "cell_type": "code",
   "execution_count": null,
   "id": "fd65f921-5130-4096-937b-6468641fc86b",
   "metadata": {},
   "outputs": [],
   "source": [
    "com"
   ]
  },
  {
   "cell_type": "code",
   "execution_count": null,
   "id": "3f232d9a-f768-4b10-b915-a63d72c96b93",
   "metadata": {},
   "outputs": [],
   "source": [
    "com=item3.compare(item4,align_axis=0)"
   ]
  },
  {
   "cell_type": "code",
   "execution_count": null,
   "id": "7757fba5-8403-424e-96c6-f8e63b7ea0fc",
   "metadata": {},
   "outputs": [],
   "source": [
    "com"
   ]
  },
  {
   "cell_type": "code",
   "execution_count": null,
   "id": "c2b1af58-fd72-490c-bf6a-79204be851fc",
   "metadata": {},
   "outputs": [],
   "source": [
    "comeq=item3.compare(item4,keep_equal=True)"
   ]
  },
  {
   "cell_type": "code",
   "execution_count": null,
   "id": "609f6450-e607-42f9-ad26-9bc7f87f2e2e",
   "metadata": {},
   "outputs": [],
   "source": [
    "comeq"
   ]
  },
  {
   "cell_type": "code",
   "execution_count": null,
   "id": "60be1352-38e1-4a29-9d85-3be92994f0c8",
   "metadata": {},
   "outputs": [],
   "source": [
    "comeqf=item3.compare(item4,keep_equal=False)"
   ]
  },
  {
   "cell_type": "code",
   "execution_count": null,
   "id": "0ab816c1-c34f-46bf-8951-2f7ccca4a88a",
   "metadata": {},
   "outputs": [],
   "source": [
    "comeqf"
   ]
  },
  {
   "cell_type": "code",
   "execution_count": null,
   "id": "05de05a3-ab03-402a-a102-bab4828cce80",
   "metadata": {},
   "outputs": [],
   "source": [
    "comsh=item3.compare(item4,keep_shape=True)"
   ]
  },
  {
   "cell_type": "code",
   "execution_count": null,
   "id": "66729040-8e06-48eb-b283-cae40a18908d",
   "metadata": {},
   "outputs": [],
   "source": [
    "comsh"
   ]
  },
  {
   "cell_type": "code",
   "execution_count": null,
   "id": "79fda2cf-05bf-4fcb-bf17-4847a1840e09",
   "metadata": {},
   "outputs": [],
   "source": [
    "comshf=item3.compare(item4,keep_shape=False)"
   ]
  },
  {
   "cell_type": "code",
   "execution_count": null,
   "id": "94202862-0b8d-4cac-aa14-52142bf98b0a",
   "metadata": {},
   "outputs": [],
   "source": [
    "comshf"
   ]
  },
  {
   "cell_type": "code",
   "execution_count": null,
   "id": "5032a255-6a2c-402e-9b11-4d5c21e59aac",
   "metadata": {},
   "outputs": [],
   "source": [
    "# Pivot tabular data :\n",
    "\n",
    "\n",
    "dfp={\"keys\":[\"key1\",\"key2\",\"key1\",\"key2\"],\"name\":[\"ram\",\"sham\",\"laxman\",\"bharat\"],\n",
    "     \"house\":[\"red\",\"green\",\"yellow\",\"pink\"],\"greads\":[\"2nd\",\"1st\",\"3rd\",\"4th\"]}"
   ]
  },
  {
   "cell_type": "code",
   "execution_count": null,
   "id": "ec95d81b-0f38-4bcf-861b-e83a6d562a3e",
   "metadata": {},
   "outputs": [],
   "source": [
    "dpt=pd.DataFrame(dfp)"
   ]
  },
  {
   "cell_type": "code",
   "execution_count": null,
   "id": "236e6bfe-b24f-4c8e-a007-7e373b25b1aa",
   "metadata": {},
   "outputs": [],
   "source": [
    "dpt"
   ]
  },
  {
   "cell_type": "code",
   "execution_count": null,
   "id": "b5d3aefb-4b7c-470f-9614-b48fcbf0ae91",
   "metadata": {},
   "outputs": [],
   "source": [
    "dpvt=dpt.pivot(index=\"keys\",columns=\"name\",values=[\"house\",\"greads\"]).fillna(0)"
   ]
  },
  {
   "cell_type": "code",
   "execution_count": null,
   "id": "0c7eaebe-d43c-4387-9a84-0f076d28afe2",
   "metadata": {},
   "outputs": [],
   "source": [
    "dpvt"
   ]
  },
  {
   "cell_type": "code",
   "execution_count": null,
   "id": "ba1dc01e-6edf-4fc1-ae16-0ea6d1f7f835",
   "metadata": {},
   "outputs": [],
   "source": [
    "# Melting data Frame :\n",
    "\n",
    "dfp={\"keys\":[\"key1\",\"key2\",\"key1\",\"key2\"],\"name\":[\"ram\",\"sham\",\"laxman\",\"bharat\"],\n",
    "     \"house\":[\"red\",\"green\",\"yellow\",\"pink\"],\"greads\":[\"2nd\",\"1st\",\"3rd\",\"4th\"]}"
   ]
  },
  {
   "cell_type": "code",
   "execution_count": null,
   "id": "b13699a8-37c4-4e04-b516-bcdb18bf1a70",
   "metadata": {},
   "outputs": [],
   "source": [
    "dm=pd.DataFrame(dfp)"
   ]
  },
  {
   "cell_type": "code",
   "execution_count": null,
   "id": "a5edcf83-4b79-4080-967f-fdbddc3f1973",
   "metadata": {},
   "outputs": [],
   "source": [
    "dm"
   ]
  },
  {
   "cell_type": "code",
   "execution_count": null,
   "id": "5ce34f8e-0d2c-4a24-903b-7c632068a381",
   "metadata": {},
   "outputs": [],
   "source": [
    "dtmlt=pd.melt(dm,id_vars=[\"name\"],value_vars=[\"house\"])"
   ]
  },
  {
   "cell_type": "code",
   "execution_count": null,
   "id": "91a145a3-76a1-4d07-ab34-7f3ce8bc109e",
   "metadata": {},
   "outputs": [],
   "source": [
    "dtmlt"
   ]
  },
  {
   "cell_type": "code",
   "execution_count": null,
   "id": "a97ceefa-63c8-4456-bae5-72bef1f7d693",
   "metadata": {},
   "outputs": [],
   "source": [
    "datamlt=pd.melt(dm,id_vars=[\"name\"],value_vars=[\"house\",\"greads\"])"
   ]
  },
  {
   "cell_type": "code",
   "execution_count": 86,
   "id": "1e650e43-369e-4a66-8dc9-0d5e0d040330",
   "metadata": {},
   "outputs": [
    {
     "data": {
      "text/html": [
       "<div>\n",
       "<style scoped>\n",
       "    .dataframe tbody tr th:only-of-type {\n",
       "        vertical-align: middle;\n",
       "    }\n",
       "\n",
       "    .dataframe tbody tr th {\n",
       "        vertical-align: top;\n",
       "    }\n",
       "\n",
       "    .dataframe thead th {\n",
       "        text-align: right;\n",
       "    }\n",
       "</style>\n",
       "<table border=\"1\" class=\"dataframe\">\n",
       "  <thead>\n",
       "    <tr style=\"text-align: right;\">\n",
       "      <th></th>\n",
       "      <th>name</th>\n",
       "      <th>variable</th>\n",
       "      <th>value</th>\n",
       "    </tr>\n",
       "  </thead>\n",
       "  <tbody>\n",
       "    <tr>\n",
       "      <th>0</th>\n",
       "      <td>ram</td>\n",
       "      <td>house</td>\n",
       "      <td>red</td>\n",
       "    </tr>\n",
       "    <tr>\n",
       "      <th>1</th>\n",
       "      <td>sham</td>\n",
       "      <td>house</td>\n",
       "      <td>green</td>\n",
       "    </tr>\n",
       "    <tr>\n",
       "      <th>2</th>\n",
       "      <td>laxman</td>\n",
       "      <td>house</td>\n",
       "      <td>yellow</td>\n",
       "    </tr>\n",
       "    <tr>\n",
       "      <th>3</th>\n",
       "      <td>bharat</td>\n",
       "      <td>house</td>\n",
       "      <td>pink</td>\n",
       "    </tr>\n",
       "    <tr>\n",
       "      <th>4</th>\n",
       "      <td>ram</td>\n",
       "      <td>greads</td>\n",
       "      <td>2nd</td>\n",
       "    </tr>\n",
       "    <tr>\n",
       "      <th>5</th>\n",
       "      <td>sham</td>\n",
       "      <td>greads</td>\n",
       "      <td>1st</td>\n",
       "    </tr>\n",
       "    <tr>\n",
       "      <th>6</th>\n",
       "      <td>laxman</td>\n",
       "      <td>greads</td>\n",
       "      <td>3rd</td>\n",
       "    </tr>\n",
       "    <tr>\n",
       "      <th>7</th>\n",
       "      <td>bharat</td>\n",
       "      <td>greads</td>\n",
       "      <td>4th</td>\n",
       "    </tr>\n",
       "  </tbody>\n",
       "</table>\n",
       "</div>"
      ],
      "text/plain": [
       "     name variable   value\n",
       "0     ram    house     red\n",
       "1    sham    house   green\n",
       "2  laxman    house  yellow\n",
       "3  bharat    house    pink\n",
       "4     ram   greads     2nd\n",
       "5    sham   greads     1st\n",
       "6  laxman   greads     3rd\n",
       "7  bharat   greads     4th"
      ]
     },
     "execution_count": 86,
     "metadata": {},
     "output_type": "execute_result"
    }
   ],
   "source": [
    "datamlt"
   ]
  },
  {
   "cell_type": "code",
   "execution_count": null,
   "id": "286c7f79-bb38-47e3-9179-2f750fdcb750",
   "metadata": {},
   "outputs": [],
   "source": []
  },
  {
   "cell_type": "code",
   "execution_count": null,
   "id": "c898ebcd-1de1-4b0e-959e-10a7023e57d4",
   "metadata": {},
   "outputs": [],
   "source": []
  }
 ],
 "metadata": {
  "kernelspec": {
   "display_name": "Python 3 (ipykernel)",
   "language": "python",
   "name": "python3"
  },
  "language_info": {
   "codemirror_mode": {
    "name": "ipython",
    "version": 3
   },
   "file_extension": ".py",
   "mimetype": "text/x-python",
   "name": "python",
   "nbconvert_exporter": "python",
   "pygments_lexer": "ipython3",
   "version": "3.12.3"
  }
 },
 "nbformat": 4,
 "nbformat_minor": 5
}
